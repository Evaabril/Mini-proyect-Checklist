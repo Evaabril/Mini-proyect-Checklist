{
 "cells": [
  {
   "cell_type": "code",
   "execution_count": null,
   "metadata": {},
   "outputs": [],
   "source": [
    "# Lista de DataFrames\n",
    "interactions_and_testA_B_df = [final_web_data_df, final_experiment_clients_df_cleaned]\n",
    "\n",
    "# Función para unir de forma acumulativa\n",
    "interactions_df = reduce(lambda left, right: pd.merge(left, right, on='client_id', how='inner'), interactions_and_testA_B_df)\n",
    "interactions_df.head()"
   ]
  }
 ],
 "metadata": {
  "language_info": {
   "name": "python"
  }
 },
 "nbformat": 4,
 "nbformat_minor": 2
}
